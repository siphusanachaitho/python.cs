{
 "cells": [
  {
   "cell_type": "code",
   "execution_count": 9,
   "id": "ef77ed22",
   "metadata": {},
   "outputs": [
    {
     "name": "stdout",
     "output_type": "stream",
     "text": [
      "<class 'bool'>\n"
     ]
    }
   ],
   "source": [
    "a = b\"test\"\n",
    "b = 1j\n",
    "c = [\"apple\",\"banana\",\"cherry\"]\n",
    "d = (\"apple\",\"banana\",\"cherry\")\n",
    "e = range(6)\n",
    "f = {\"apple\",\"banana\",\"cherry\"}\n",
    "g = {\"apple\",\"banana\",\"cherry\"}\n",
    "h = True\n",
    "i = b\"Hello\"\n",
    "j = bytearray(5)\n",
    "k = memoryview(bytes(5))\n",
    "l = None\n",
    "\n",
    "print(type(h))"
   ]
  }
 ],
 "metadata": {
  "kernelspec": {
   "display_name": "Python 3",
   "language": "python",
   "name": "python3"
  },
  "language_info": {
   "codemirror_mode": {
    "name": "ipython",
    "version": 3
   },
   "file_extension": ".py",
   "mimetype": "text/x-python",
   "name": "python",
   "nbconvert_exporter": "python",
   "pygments_lexer": "ipython3",
   "version": "3.11.5"
  }
 },
 "nbformat": 4,
 "nbformat_minor": 5
}
